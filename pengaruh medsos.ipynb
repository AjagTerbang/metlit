{
 "cells": [
  {
   "cell_type": "code",
   "execution_count": null,
   "metadata": {},
   "outputs": [],
   "source": []
  },
  {
   "cell_type": "code",
   "execution_count": 1,
   "metadata": {},
   "outputs": [],
   "source": [
    "import pandas as pd\n",
    "from sklearn.model_selection import train_test_split\n",
    "from sklearn.metrics import classification_report\n",
    "from sklearn.naive_bayes import BernoulliNB\n",
    "import matplotlib.pyplot as plt\n",
    "import numpy as np"
   ]
  },
  {
   "cell_type": "code",
   "execution_count": 2,
   "metadata": {},
   "outputs": [],
   "source": [
    "# Load dataset\n",
    "df = pd.read_csv(\"pengaruh_media_sosial_ipk_mahasiswa.csv\", delimiter=\";\")\n",
    "df['Nilai IPK'] = df['Nilai IPK'].str.replace(',', '.').astype(float)\n",
    "df['Nilai_Group'] = df['Nilai IPK'].apply(lambda x: 'Diatas 3' if x >= 3.5 else \"Dibawah 3\")\n"
   ]
  },
  {
   "cell_type": "code",
   "execution_count": 3,
   "metadata": {},
   "outputs": [
    {
     "name": "stdout",
     "output_type": "stream",
     "text": [
      "0    2.36\n",
      "1    3.59\n",
      "2    2.32\n",
      "3    3.03\n",
      "4    3.64\n",
      "Name: Nilai IPK, dtype: float64\n"
     ]
    }
   ],
   "source": [
    "# Mengecek dataset\n",
    "print(df.head()[\"Nilai IPK\"])"
   ]
  },
  {
   "cell_type": "code",
   "execution_count": 4,
   "metadata": {},
   "outputs": [
    {
     "name": "stdout",
     "output_type": "stream",
     "text": [
      "  Berapa lama Anda menggunakan Media Sosial dalam sehari?  \\\n",
      "0                                   Lebih dari 6 jam        \n",
      "1                                  Kurang dari 6 jam        \n",
      "2                                   Lebih dari 6 jam        \n",
      "3                                   Lebih dari 6 jam        \n",
      "4                                  Kurang dari 6 jam        \n",
      "\n",
      "  Berapa lama Anda tidur dalam sehari?  \n",
      "0                    Kurang dari 8 jam  \n",
      "1                    Kurang dari 8 jam  \n",
      "2                    Kurang dari 8 jam  \n",
      "3                     Lebih dari 8 jam  \n",
      "4                    Kurang dari 8 jam  \n",
      "0    2.36\n",
      "1    3.59\n",
      "2    2.32\n",
      "3    3.03\n",
      "4    3.64\n",
      "Name: Nilai IPK, dtype: float64\n"
     ]
    }
   ],
   "source": [
    "# Data fitur\n",
    "x = df[[\"Berapa lama Anda menggunakan Media Sosial dalam sehari?\",\"Berapa lama Anda tidur dalam sehari?\"]]\n",
    "\n",
    "# Data target\n",
    "y = df[\"Nilai IPK\"]\n",
    "\n",
    "print (x[:5])\n",
    "print (y[:5])"
   ]
  },
  {
   "cell_type": "markdown",
   "metadata": {},
   "source": [
    "# Membagi dataset antara train dan test"
   ]
  },
  {
   "cell_type": "code",
   "execution_count": 5,
   "metadata": {},
   "outputs": [],
   "source": [
    "X_train, X_test, y_train, y_test = train_test_split(x, y, test_size=0.2, random_state=42)"
   ]
  },
  {
   "cell_type": "code",
   "execution_count": 6,
   "metadata": {},
   "outputs": [
    {
     "name": "stdout",
     "output_type": "stream",
     "text": [
      "    Berapa lama Anda menggunakan Media Sosial dalam sehari?  \\\n",
      "6                                    Kurang dari 6 jam        \n",
      "183                                  Kurang dari 6 jam        \n",
      "185                                   Lebih dari 6 jam        \n",
      "146                                   Lebih dari 6 jam        \n",
      "30                                   Kurang dari 6 jam        \n",
      "\n",
      "    Berapa lama Anda tidur dalam sehari?  \n",
      "6                      Kurang dari 8 jam  \n",
      "183                    Kurang dari 8 jam  \n",
      "185                    Kurang dari 8 jam  \n",
      "146                     Lebih dari 8 jam  \n",
      "30                     Kurang dari 8 jam  \n",
      "6      3.18\n",
      "183    2.58\n",
      "185    2.67\n",
      "146    2.18\n",
      "30     2.10\n",
      "Name: Nilai IPK, dtype: float64\n"
     ]
    }
   ],
   "source": [
    "print(X_train.head(5))\n",
    "print(y_train.head(5))"
   ]
  },
  {
   "cell_type": "code",
   "execution_count": 7,
   "metadata": {},
   "outputs": [
    {
     "name": "stdout",
     "output_type": "stream",
     "text": [
      "[[0. 0.]\n",
      " [0. 0.]\n",
      " [1. 0.]\n",
      " [1. 1.]\n",
      " [0. 0.]] \n",
      "\n",
      "[[78]\n",
      " [33]\n",
      " [40]\n",
      " [ 7]\n",
      " [ 0]]\n"
     ]
    }
   ],
   "source": [
    "from sklearn.preprocessing import OrdinalEncoder, LabelEncoder\n",
    "encoder = OrdinalEncoder()\n",
    "le = LabelEncoder()\n",
    "\n",
    "# Fitur\n",
    "X_train = encoder.fit_transform(X_train)\n",
    "X_test = encoder.fit_transform(X_test)\n",
    "\n",
    "\n",
    "\n",
    "# Target\n",
    "y_train = le.fit_transform(y_train)\n",
    "y_test = le.fit_transform(y_test)\n",
    "\n",
    "y_train = y_train.reshape(-1, 1)\n",
    "y_test = y_test.reshape(-1, 1)\n",
    "\n",
    "print(X_train[:5], \"\\n\")\n",
    "print(y_train[:5])\n",
    "\n"
   ]
  },
  {
   "cell_type": "code",
   "execution_count": 8,
   "metadata": {},
   "outputs": [
    {
     "name": "stdout",
     "output_type": "stream",
     "text": [
      "Train data\n",
      "              precision    recall  f1-score   support\n",
      "\n",
      "           0       0.00      0.00      0.00         1\n",
      "           1       0.00      0.00      0.00         1\n",
      "           2       0.00      0.00      0.00         4\n",
      "           3       0.00      0.00      0.00         1\n",
      "           4       0.00      0.00      0.00         1\n",
      "           5       0.00      0.00      0.00         3\n",
      "           6       0.00      0.00      0.00         2\n",
      "           7       0.00      0.00      0.00         3\n",
      "           8       0.00      0.00      0.00         1\n",
      "           9       0.00      0.00      0.00         1\n",
      "          10       0.00      0.00      0.00         3\n",
      "          11       0.00      0.00      0.00         2\n",
      "          12       0.00      0.00      0.00         2\n",
      "          13       0.00      0.00      0.00         2\n",
      "          14       0.00      0.00      0.00         2\n",
      "          15       0.00      0.00      0.00         1\n",
      "          16       0.00      0.00      0.00         2\n",
      "          17       0.00      0.00      0.00         1\n",
      "          18       0.00      0.00      0.00         2\n",
      "          19       0.00      0.00      0.00         1\n",
      "          20       0.00      0.00      0.00         3\n",
      "          21       0.00      0.00      0.00         3\n",
      "          22       0.00      0.00      0.00         2\n",
      "          23       0.00      0.00      0.00         2\n",
      "          24       0.00      0.00      0.00         1\n",
      "          25       0.00      0.00      0.00         2\n",
      "          26       0.00      0.00      0.00         2\n",
      "          27       0.00      0.00      0.00         2\n",
      "          28       0.00      0.00      0.00         1\n",
      "          29       0.00      0.00      0.00         1\n",
      "          30       0.00      0.00      0.00         1\n",
      "          31       0.00      0.00      0.00         1\n",
      "          32       0.00      0.00      0.00         1\n",
      "          33       0.00      0.00      0.00         3\n",
      "          34       0.00      0.00      0.00         1\n",
      "          35       0.00      0.00      0.00         1\n",
      "          36       0.00      0.00      0.00         3\n",
      "          37       0.00      0.00      0.00         2\n",
      "          38       0.00      0.00      0.00         2\n",
      "          39       0.00      0.00      0.00         1\n",
      "          40       0.00      0.00      0.00         4\n",
      "          41       0.00      0.00      0.00         4\n",
      "          42       0.00      0.00      0.00         1\n",
      "          43       0.00      0.00      0.00         2\n",
      "          44       0.00      0.00      0.00         2\n",
      "          45       0.00      0.00      0.00         1\n",
      "          46       0.00      0.00      0.00         2\n",
      "          47       0.00      0.00      0.00         2\n",
      "          48       0.00      0.00      0.00         1\n",
      "          49       0.00      0.00      0.00         1\n",
      "          50       0.00      0.00      0.00         2\n",
      "          51       0.00      0.00      0.00         3\n",
      "          52       0.00      0.00      0.00         1\n",
      "          53       0.00      0.00      0.00         2\n",
      "          54       0.00      0.00      0.00         1\n",
      "          55       0.00      0.00      0.00         3\n",
      "          56       0.00      0.00      0.00         1\n",
      "          57       0.00      0.00      0.00         2\n",
      "          58       0.00      0.00      0.00         2\n",
      "          59       0.00      0.00      0.00         1\n",
      "          60       0.00      0.00      0.00         3\n",
      "          61       0.00      0.00      0.00         3\n",
      "          62       0.00      0.00      0.00         2\n",
      "          63       0.00      0.00      0.00         1\n",
      "          64       0.00      0.00      0.00         3\n",
      "          65       0.00      0.00      0.00         1\n",
      "          66       0.00      0.00      0.00         3\n",
      "          67       0.05      0.40      0.09         5\n",
      "          68       0.00      0.00      0.00         1\n",
      "          69       0.00      0.00      0.00         1\n",
      "          70       0.03      0.67      0.07         3\n",
      "          71       0.00      0.00      0.00         2\n",
      "          72       0.00      0.00      0.00         2\n",
      "          73       0.00      0.00      0.00         2\n",
      "          74       0.00      0.00      0.00         2\n",
      "          75       0.00      0.00      0.00         2\n",
      "          76       0.00      0.00      0.00         1\n",
      "          77       0.00      0.00      0.00         1\n",
      "          78       0.00      0.00      0.00         2\n",
      "          79       0.00      0.00      0.00         3\n",
      "          80       0.00      0.00      0.00         4\n",
      "          81       0.11      0.67      0.19         3\n",
      "          82       0.00      0.00      0.00         1\n",
      "          83       0.00      0.00      0.00         1\n",
      "          84       0.00      0.00      0.00         1\n",
      "          85       0.00      0.00      0.00         1\n",
      "          86       0.00      0.00      0.00         2\n",
      "          87       0.00      0.00      0.00         2\n",
      "          88       0.00      0.00      0.00         1\n",
      "          89       0.00      0.00      0.00         1\n",
      "          90       0.00      0.00      0.00         1\n",
      "          91       0.04      0.83      0.08         6\n",
      "          92       0.00      0.00      0.00         2\n",
      "          93       0.00      0.00      0.00         3\n",
      "          94       0.00      0.00      0.00         3\n",
      "          95       0.00      0.00      0.00         1\n",
      "          96       0.00      0.00      0.00         2\n",
      "          97       0.00      0.00      0.00         1\n",
      "          98       0.00      0.00      0.00         3\n",
      "          99       0.00      0.00      0.00         3\n",
      "         100       0.00      0.00      0.00         1\n",
      "         101       0.00      0.00      0.00         1\n",
      "         102       0.00      0.00      0.00         3\n",
      "         103       0.00      0.00      0.00         2\n",
      "         104       0.00      0.00      0.00         2\n",
      "         105       0.00      0.00      0.00         3\n",
      "         106       0.00      0.00      0.00         2\n",
      "         107       0.00      0.00      0.00         2\n",
      "         108       0.00      0.00      0.00         2\n",
      "         109       0.00      0.00      0.00         2\n",
      "         110       0.00      0.00      0.00         3\n",
      "         111       0.00      0.00      0.00         1\n",
      "         112       0.00      0.00      0.00         3\n",
      "         113       0.00      0.00      0.00         1\n",
      "         114       0.00      0.00      0.00         1\n",
      "         115       0.00      0.00      0.00         1\n",
      "         116       0.00      0.00      0.00         1\n",
      "         117       0.00      0.00      0.00         1\n",
      "         118       0.00      0.00      0.00         3\n",
      "         119       0.00      0.00      0.00         1\n",
      "         120       0.00      0.00      0.00         1\n",
      "         121       0.00      0.00      0.00         1\n",
      "         122       0.00      0.00      0.00         1\n",
      "         123       0.00      0.00      0.00         2\n",
      "         124       0.00      0.00      0.00         2\n",
      "         125       0.00      0.00      0.00         2\n",
      "\n",
      "    accuracy                           0.05       239\n",
      "   macro avg       0.00      0.02      0.00       239\n",
      "weighted avg       0.00      0.05      0.01       239\n",
      "\n"
     ]
    },
    {
     "name": "stderr",
     "output_type": "stream",
     "text": [
      "C:\\Users\\haika\\AppData\\Local\\Packages\\PythonSoftwareFoundation.Python.3.12_qbz5n2kfra8p0\\LocalCache\\local-packages\\Python312\\site-packages\\sklearn\\utils\\validation.py:1183: DataConversionWarning: A column-vector y was passed when a 1d array was expected. Please change the shape of y to (n_samples, ), for example using ravel().\n",
      "  y = column_or_1d(y, warn=True)\n",
      "C:\\Users\\haika\\AppData\\Local\\Packages\\PythonSoftwareFoundation.Python.3.12_qbz5n2kfra8p0\\LocalCache\\local-packages\\Python312\\site-packages\\sklearn\\metrics\\_classification.py:1471: UndefinedMetricWarning: Precision and F-score are ill-defined and being set to 0.0 in labels with no predicted samples. Use `zero_division` parameter to control this behavior.\n",
      "  _warn_prf(average, modifier, msg_start, len(result))\n",
      "C:\\Users\\haika\\AppData\\Local\\Packages\\PythonSoftwareFoundation.Python.3.12_qbz5n2kfra8p0\\LocalCache\\local-packages\\Python312\\site-packages\\sklearn\\metrics\\_classification.py:1471: UndefinedMetricWarning: Precision and F-score are ill-defined and being set to 0.0 in labels with no predicted samples. Use `zero_division` parameter to control this behavior.\n",
      "  _warn_prf(average, modifier, msg_start, len(result))\n",
      "C:\\Users\\haika\\AppData\\Local\\Packages\\PythonSoftwareFoundation.Python.3.12_qbz5n2kfra8p0\\LocalCache\\local-packages\\Python312\\site-packages\\sklearn\\metrics\\_classification.py:1471: UndefinedMetricWarning: Precision and F-score are ill-defined and being set to 0.0 in labels with no predicted samples. Use `zero_division` parameter to control this behavior.\n",
      "  _warn_prf(average, modifier, msg_start, len(result))\n"
     ]
    }
   ],
   "source": [
    "# Train data\n",
    "model = BernoulliNB()\n",
    "model.fit(X_train, y_train)\n",
    "y_pred = model.predict(X_train)\n",
    "report = classification_report(y_train, y_pred)\n",
    "print(\"Train data\")\n",
    "print(report)"
   ]
  },
  {
   "cell_type": "code",
   "execution_count": 9,
   "metadata": {},
   "outputs": [
    {
     "name": "stdout",
     "output_type": "stream",
     "text": [
      "Accuracy of BernoulliNB: 6.67%\n"
     ]
    },
    {
     "name": "stderr",
     "output_type": "stream",
     "text": [
      "C:\\Users\\haika\\AppData\\Local\\Packages\\PythonSoftwareFoundation.Python.3.12_qbz5n2kfra8p0\\LocalCache\\local-packages\\Python312\\site-packages\\sklearn\\utils\\validation.py:1183: DataConversionWarning: A column-vector y was passed when a 1d array was expected. Please change the shape of y to (n_samples, ), for example using ravel().\n",
      "  y = column_or_1d(y, warn=True)\n"
     ]
    }
   ],
   "source": [
    "# Test data\n",
    "model = BernoulliNB()\n",
    "model.fit(X_test, y_test)\n",
    "\n",
    "# prediksi\n",
    "y_pred = model.predict(X_test)\n",
    "\n",
    "# menghitung akurasi data test\n",
    "accuracy = model.score(X_test, y_test)\n",
    "print(\"Accuracy of BernoulliNB: {:.2f}%\".format(accuracy * 100))\n",
    "\n"
   ]
  },
  {
   "cell_type": "code",
   "execution_count": 10,
   "metadata": {},
   "outputs": [
    {
     "name": "stdout",
     "output_type": "stream",
     "text": [
      "Test Model\n",
      "              precision    recall  f1-score   support\n",
      "\n",
      "           0       0.00      0.00      0.00         1\n",
      "           1       0.00      0.00      0.00         1\n",
      "           2       0.00      0.00      0.00         1\n",
      "           3       0.00      0.00      0.00         1\n",
      "           4       0.00      0.00      0.00         1\n",
      "           5       0.00      0.00      0.00         1\n",
      "           6       0.00      0.00      0.00         1\n",
      "           7       0.00      0.00      0.00         1\n",
      "           8       0.00      0.00      0.00         1\n",
      "           9       0.00      0.00      0.00         1\n",
      "          10       0.00      0.00      0.00         1\n",
      "          11       0.00      0.00      0.00         1\n",
      "          12       0.00      0.00      0.00         1\n",
      "          13       0.00      0.00      0.00         1\n",
      "          14       0.05      1.00      0.09         2\n",
      "          15       0.00      0.00      0.00         1\n",
      "          16       0.11      1.00      0.20         2\n",
      "          17       0.00      0.00      0.00         1\n",
      "          18       0.00      0.00      0.00         2\n",
      "          19       0.00      0.00      0.00         1\n",
      "          20       0.00      0.00      0.00         1\n",
      "          21       0.00      0.00      0.00         2\n",
      "          22       0.00      0.00      0.00         1\n",
      "          23       0.00      0.00      0.00         1\n",
      "          24       0.00      0.00      0.00         1\n",
      "          25       0.00      0.00      0.00         2\n",
      "          26       0.00      0.00      0.00         2\n",
      "          27       0.00      0.00      0.00         1\n",
      "          28       0.00      0.00      0.00         1\n",
      "          29       0.00      0.00      0.00         1\n",
      "          30       0.00      0.00      0.00         1\n",
      "          31       0.00      0.00      0.00         2\n",
      "          32       0.00      0.00      0.00         1\n",
      "          33       0.00      0.00      0.00         1\n",
      "          34       0.00      0.00      0.00         1\n",
      "          35       0.00      0.00      0.00         1\n",
      "          36       0.00      0.00      0.00         1\n",
      "          37       0.00      0.00      0.00         1\n",
      "          38       0.00      0.00      0.00         1\n",
      "          39       0.00      0.00      0.00         2\n",
      "          40       0.00      0.00      0.00         1\n",
      "          41       0.00      0.00      0.00         1\n",
      "          42       0.00      0.00      0.00         1\n",
      "          43       0.00      0.00      0.00         1\n",
      "          44       0.00      0.00      0.00         2\n",
      "          45       0.00      0.00      0.00         1\n",
      "          46       0.00      0.00      0.00         1\n",
      "          47       0.00      0.00      0.00         1\n",
      "          48       0.00      0.00      0.00         1\n",
      "          49       0.00      0.00      0.00         1\n",
      "          50       0.00      0.00      0.00         1\n",
      "\n",
      "    accuracy                           0.07        60\n",
      "   macro avg       0.00      0.04      0.01        60\n",
      "weighted avg       0.01      0.07      0.01        60\n",
      "\n"
     ]
    },
    {
     "name": "stderr",
     "output_type": "stream",
     "text": [
      "C:\\Users\\haika\\AppData\\Local\\Packages\\PythonSoftwareFoundation.Python.3.12_qbz5n2kfra8p0\\LocalCache\\local-packages\\Python312\\site-packages\\sklearn\\metrics\\_classification.py:1471: UndefinedMetricWarning: Precision and F-score are ill-defined and being set to 0.0 in labels with no predicted samples. Use `zero_division` parameter to control this behavior.\n",
      "  _warn_prf(average, modifier, msg_start, len(result))\n",
      "C:\\Users\\haika\\AppData\\Local\\Packages\\PythonSoftwareFoundation.Python.3.12_qbz5n2kfra8p0\\LocalCache\\local-packages\\Python312\\site-packages\\sklearn\\metrics\\_classification.py:1471: UndefinedMetricWarning: Precision and F-score are ill-defined and being set to 0.0 in labels with no predicted samples. Use `zero_division` parameter to control this behavior.\n",
      "  _warn_prf(average, modifier, msg_start, len(result))\n",
      "C:\\Users\\haika\\AppData\\Local\\Packages\\PythonSoftwareFoundation.Python.3.12_qbz5n2kfra8p0\\LocalCache\\local-packages\\Python312\\site-packages\\sklearn\\metrics\\_classification.py:1471: UndefinedMetricWarning: Precision and F-score are ill-defined and being set to 0.0 in labels with no predicted samples. Use `zero_division` parameter to control this behavior.\n",
      "  _warn_prf(average, modifier, msg_start, len(result))\n"
     ]
    }
   ],
   "source": [
    "report = classification_report(y_test, y_pred)\n",
    "print(\"Test Model\")\n",
    "print(report)"
   ]
  },
  {
   "cell_type": "markdown",
   "metadata": {},
   "source": [
    "# Visualization"
   ]
  },
  {
   "cell_type": "code",
   "execution_count": 15,
   "metadata": {},
   "outputs": [
    {
     "data": {
      "text/plain": [
       "<Axes: xlabel='Durasi Penggunaan Media Sosial'>"
      ]
     },
     "execution_count": 15,
     "metadata": {},
     "output_type": "execute_result"
    },
    {
     "data": {
      "image/png": "[encoded data removed]",
      "text/plain": [
       "<Figure size 640x480 with 1 Axes>"
      ]
     },
     "metadata": {},
     "output_type": "display_data"
    }
   ],
   "source": [
    "# Ubah data dalam kolom \"Berapa lama Anda menggunakan Media Sosial dalam sehari?\" menjadi kategori\n",
    "df['Berapa lama Anda menggunakan Media Sosial dalam sehari?'] = df['Berapa lama Anda menggunakan Media Sosial dalam sehari?'].replace({'Lebih dari 6 jam': 7, 'Kurang dari 6 jam': 5})\n",
    "\n",
    "\n",
    "df['Durasi Penggunaan Media Sosial'] = pd.cut(df['Berapa lama Anda menggunakan Media Sosial dalam sehari?'], \n",
    "                                             bins=[0, 6, df['Berapa lama Anda menggunakan Media Sosial dalam sehari?'].max()], \n",
    "                                             labels=['kurang dari 6 jam', 'lebih dari 6 jam'])\n",
    "\n",
    "df['Pengaruh Media Sosial'] = df['Durasi Penggunaan Media Sosial'].astype(str) + ' - ' + df['Nilai IPK'].astype(str)\n",
    "\n",
    "df['Durasi Penggunaan Media Sosial'].value_counts().plot(kind='bar')\n"
   ]
  },
  {
   "cell_type": "markdown",
   "metadata": {},
   "source": [
    "# GAK KEPAKE"
   ]
  },
  {
   "cell_type": "code",
   "execution_count": 12,
   "metadata": {},
   "outputs": [
    {
     "name": "stderr",
     "output_type": "stream",
     "text": [
      "C:\\Users\\haika\\AppData\\Local\\Temp\\ipykernel_6108\\2972373962.py:1: FutureWarning: The default of observed=False is deprecated and will be changed to True in a future version of pandas. Pass observed=False to retain current behavior or observed=True to adopt the future default and silence this warning.\n",
      "  grouped_df = df.groupby(['Durasi Penggunaan Media Sosial', 'Nilai_Group']).size().reset_index(name='Jumlah')\n"
     ]
    },
    {
     "data": {
      "image/png": "[encoded data removed]",
      "text/plain": [
       "<Figure size 640x480 with 1 Axes>"
      ]
     },
     "metadata": {},
     "output_type": "display_data"
    }
   ],
   "source": [
    "grouped_df = df.groupby(['Durasi Penggunaan Media Sosial', 'Nilai_Group']).size().reset_index(name='Jumlah')\n",
    "\n",
    "grouped_df = grouped_df.rename(columns={\n",
    "    'Durasi Penggunaan Media Sosial': 'Penggunaan Medsos',\n",
    "    'Nilai_Group' : 'Nilai'\n",
    "    })\n",
    "pivot_df = grouped_df.pivot(index='Penggunaan Medsos', columns='Nilai', values='Jumlah')\n",
    "pivot_df.plot(kind='bar')\n",
    "plt.show()"
   ]
  },
  {
   "cell_type": "code",
   "execution_count": 13,
   "metadata": {},
   "outputs": [
    {
     "name": "stdout",
     "output_type": "stream",
     "text": [
      "Nilai IPK\n",
      "3.33    7\n",
      "3.04    7\n",
      "2.68    6\n",
      "2.87    5\n",
      "3.01    5\n",
      "       ..\n",
      "2.88    1\n",
      "3.49    1\n",
      "3.24    1\n",
      "2.33    1\n",
      "3.02    1\n",
      "Name: count, Length: 136, dtype: int64\n",
      "Index(['No', 'Nama :', 'Jenis Kelamin :', 'Tingkat Semester :',\n",
      "       'Program Studi/Jurusan :',\n",
      "       'Berapa lama Anda menggunakan Media Sosial dalam sehari?',\n",
      "       'Berapa lama Anda tidur dalam sehari?',\n",
      "       'Apakah Anda merasa prestasi akademik (IPK) Anda baik?',\n",
      "       'Apakah penggunaan Media Sosial dapat mempengaruhi prestasi akademik Anda?',\n",
      "       'Platform Media Sosial apa yang paling sering Anda gunakan?',\n",
      "       'Apakah penggunaan Media Sosial berpengaruh terhadap jam tidur Anda?',\n",
      "       'Nilai IPK', 'Nilai_Group', 'Durasi Penggunaan Media Sosial',\n",
      "       'Pengaruh Media Sosial'],\n",
      "      dtype='object')\n"
     ]
    }
   ],
   "source": [
    "counts = df['Nilai IPK'].value_counts()\n",
    "print(counts)\n",
    "print(df.columns)"
   ]
  },
  {
   "cell_type": "code",
   "execution_count": 14,
   "metadata": {},
   "outputs": [
    {
     "data": {
      "image/png": "[encoded data removed]",
      "text/plain": [
       "<Figure size 640x480 with 1 Axes>"
      ]
     },
     "metadata": {},
     "output_type": "display_data"
    }
   ],
   "source": [
    "\n",
    "counts.plot(kind='bar')\n",
    "# plt.bar(range(len(counts)), counts)\n",
    "plt.xlabel('Ya')\n",
    "plt.ylabel('Count')\n",
    "plt.title('Test')\n",
    "plt.show()"
   ]
  }
 ],
 "metadata": {
  "kernelspec": {
   "display_name": "Python 3",
   "language": "python",
   "name": "python3"
  },
  "language_info": {
   "codemirror_mode": {
    "name": "ipython",
    "version": 3
   },
   "file_extension": ".py",
   "mimetype": "text/x-python",
   "name": "python",
   "nbconvert_exporter": "python",
   "pygments_lexer": "ipython3",
   "version": "3.12.1"
  }
 },
 "nbformat": 4,
 "nbformat_minor": 2
}
